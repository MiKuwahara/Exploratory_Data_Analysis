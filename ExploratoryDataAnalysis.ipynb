{
  "metadata": {
    "kernelspec": {
      "name": "python",
      "display_name": "Python (Pyodide)",
      "language": "python"
    },
    "language_info": {
      "codemirror_mode": {
        "name": "python",
        "version": 3
      },
      "file_extension": ".py",
      "mimetype": "text/x-python",
      "name": "python",
      "nbconvert_exporter": "python",
      "pygments_lexer": "ipython3",
      "version": "3.8"
    },
    "prev_pub_hash": "ade92979dd70141c119d5b4bacc0df03967cedc29c4b7d26b1149404340075d2"
  },
  "nbformat_minor": 4,
  "nbformat": 4,
  "cells": [
    {
      "cell_type": "markdown",
      "source": "<p style=\"text-align:center\">\n    <a href=\"https://skills.network\" target=\"_blank\">\n    <img src=\"https://cf-courses-data.s3.us.cloud-object-storage.appdomain.cloud/assets/logos/SN_web_lightmode.png\" width=\"200\" alt=\"Skills Network Logo\">\n    </a>\n</p>\n",
      "metadata": {}
    },
    {
      "cell_type": "markdown",
      "source": "# **Exploratory Data Analysis Lab**\n",
      "metadata": {}
    },
    {
      "cell_type": "markdown",
      "source": "Estimated time needed: **30** minutes\n",
      "metadata": {}
    },
    {
      "cell_type": "markdown",
      "source": "In this module you get to work with the cleaned dataset from the previous module.\n\nIn this assignment you will perform the task of exploratory data analysis.\nYou will find out the distribution of data, presence of outliers and also determine the correlation between different columns in the dataset.\n",
      "metadata": {}
    },
    {
      "cell_type": "markdown",
      "source": "## Objectives\n",
      "metadata": {}
    },
    {
      "cell_type": "markdown",
      "source": "In this lab you will perform the following:\n",
      "metadata": {}
    },
    {
      "cell_type": "markdown",
      "source": "-   Identify the distribution of data in the dataset.\n\n-   Identify outliers in the dataset.\n\n-   Remove outliers from the dataset.\n\n-   Identify correlation between features in the dataset.\n",
      "metadata": {}
    },
    {
      "cell_type": "markdown",
      "source": "* * *\n",
      "metadata": {}
    },
    {
      "cell_type": "markdown",
      "source": "## Hands on Lab\n",
      "metadata": {}
    },
    {
      "cell_type": "markdown",
      "source": "Import the pandas module.\n",
      "metadata": {}
    },
    {
      "cell_type": "code",
      "source": "import pandas as pd",
      "metadata": {
        "trusted": true
      },
      "outputs": [],
      "execution_count": 1
    },
    {
      "cell_type": "markdown",
      "source": "Load the dataset into a dataframe.\n",
      "metadata": {}
    },
    {
      "cell_type": "markdown",
      "source": "<h2>Read Data</h2>\n<p>\nWe utilize the <code>pandas.read_csv()</code> function for reading CSV files. However, in this version of the lab, which operates on JupyterLite, the dataset needs to be downloaded to the interface using the provided code below.\n</p>\n",
      "metadata": {}
    },
    {
      "cell_type": "markdown",
      "source": "The functions below will download the dataset into your browser:\n",
      "metadata": {}
    },
    {
      "cell_type": "code",
      "source": "from pyodide.http import pyfetch\n\nasync def download(url, filename):\n    response = await pyfetch(url)\n    if response.status == 200:\n        with open(filename, \"wb\") as f:\n            f.write(await response.bytes())",
      "metadata": {
        "trusted": true
      },
      "outputs": [],
      "execution_count": 2
    },
    {
      "cell_type": "code",
      "source": "file_path = \"https://cf-courses-data.s3.us.cloud-object-storage.appdomain.cloud/IBM-DA0321EN-SkillsNetwork/LargeData/m2_survey_data.csv\"",
      "metadata": {
        "trusted": true
      },
      "outputs": [],
      "execution_count": 3
    },
    {
      "cell_type": "markdown",
      "source": "To obtain the dataset, utilize the download() function as defined above:  \n",
      "metadata": {}
    },
    {
      "cell_type": "code",
      "source": "await download(file_path, \"m2_survey_data.csv\")\nfile_name=\"m2_survey_data.csv\"",
      "metadata": {
        "trusted": true
      },
      "outputs": [],
      "execution_count": 4
    },
    {
      "cell_type": "markdown",
      "source": "Utilize the Pandas method read_csv() to load the data into a dataframe.\n",
      "metadata": {}
    },
    {
      "cell_type": "code",
      "source": "df = pd.read_csv(file_name)",
      "metadata": {
        "trusted": true
      },
      "outputs": [],
      "execution_count": 5
    },
    {
      "cell_type": "markdown",
      "source": "> Note: This version of the lab is working on JupyterLite, which requires the dataset to be downloaded to the interface.While working on the downloaded version of this notebook on their local machines(Jupyter Anaconda), the learners can simply **skip the steps above,** and simply use the URL directly in the `pandas.read_csv()` function. You can uncomment and run the statements in the cell below.\n",
      "metadata": {}
    },
    {
      "cell_type": "code",
      "source": "#df = pd.read_csv(\"https://cf-courses-data.s3.us.cloud-object-storage.appdomain.cloud/IBM-DA0321EN-SkillsNetwork/LargeData/m2_survey_data.csv\")",
      "metadata": {},
      "outputs": [],
      "execution_count": null
    },
    {
      "cell_type": "markdown",
      "source": "## Distribution\n",
      "metadata": {}
    },
    {
      "cell_type": "markdown",
      "source": "### Determine how the data is distributed\n",
      "metadata": {}
    },
    {
      "cell_type": "markdown",
      "source": "The column `ConvertedComp` contains Salary converted to annual USD salaries using the exchange rate on 2019-02-01.\n\nThis assumes 12 working months and 50 working weeks.\n",
      "metadata": {}
    },
    {
      "cell_type": "markdown",
      "source": "Plot the distribution curve for the column `ConvertedComp`.\n",
      "metadata": {}
    },
    {
      "cell_type": "code",
      "source": "import piplite\nawait piplite.install('seaborn')\nimport seaborn as sns\nimport numpy as np",
      "metadata": {
        "trusted": true
      },
      "outputs": [],
      "execution_count": 7
    },
    {
      "cell_type": "code",
      "source": "import matplotlib as mpl\nimport matplotlib.pyplot as plt",
      "metadata": {
        "trusted": true
      },
      "outputs": [],
      "execution_count": 8
    },
    {
      "cell_type": "code",
      "source": " sns.distplot(df['ConvertedComp'], kde = True)",
      "metadata": {
        "trusted": true
      },
      "outputs": [
        {
          "name": "stderr",
          "text": "<ipython-input-9-40e1db24932f>:1: UserWarning: \n\n`distplot` is a deprecated function and will be removed in seaborn v0.14.0.\n\nPlease adapt your code to use either `displot` (a figure-level function with\nsimilar flexibility) or `histplot` (an axes-level function for histograms).\n\nFor a guide to updating your code to use the new functions, please see\nhttps://gist.github.com/mwaskom/de44147ed2974457ad6372750bbe5751\n\n  sns.distplot(df['ConvertedComp'], kde = True)\n",
          "output_type": "stream"
        },
        {
          "execution_count": 9,
          "output_type": "execute_result",
          "data": {
            "text/plain": "<AxesSubplot:xlabel='ConvertedComp', ylabel='Density'>"
          },
          "metadata": {}
        },
        {
          "output_type": "display_data",
          "data": {
            "text/plain": "<Figure size 640x480 with 1 Axes>",
            "image/png": "[encoded data removed]"
          },
          "metadata": {}
        }
      ],
      "execution_count": 9
    },
    {
      "cell_type": "markdown",
      "source": "Plot the histogram for the column `ConvertedComp`.\n",
      "metadata": {}
    },
    {
      "cell_type": "code",
      "source": "df['ConvertedComp'].dtypes",
      "metadata": {
        "trusted": true
      },
      "outputs": [
        {
          "execution_count": 10,
          "output_type": "execute_result",
          "data": {
            "text/plain": "dtype('float64')"
          },
          "metadata": {}
        }
      ],
      "execution_count": 10
    },
    {
      "cell_type": "code",
      "source": "#df['ConvertedComp'].plot.hist()\n\n# Alternately...\n#df['ConvertedComp'].plot(kind='hist')\n\n# Clean data\ndf_cc = df.copy()\ndf_cc['ConvertedComp'].replace('?', np.NaN, inplace=True)\nmean = df_cc['ConvertedComp'].mean()\ndf_cc['ConvertedComp'].replace(np.NaN, mean, inplace=True)\n\n# Get bin sizes\ncount, bin_edges = np.histogram(df_cc['ConvertedComp'])\n\n# Plot\ndf_cc['ConvertedComp'].plot(kind='hist', xticks=bin_edges)\nplt.title('Histogram of Responders\\' Salary')\nplt.ylabel('Frequency')\nplt.xlabel('Salary')\n",
      "metadata": {
        "trusted": true
      },
      "outputs": [
        {
          "execution_count": 11,
          "output_type": "execute_result",
          "data": {
            "text/plain": "Text(0.5, 0, 'Salary')"
          },
          "metadata": {}
        },
        {
          "output_type": "display_data",
          "data": {
            "text/plain": "<Figure size 640x480 with 1 Axes>",
            "image/png": "[encoded data removed]"
          },
          "metadata": {}
        }
      ],
      "execution_count": 11
    },
    {
      "cell_type": "markdown",
      "source": "What is the median of the column `ConvertedComp`?\n",
      "metadata": {}
    },
    {
      "cell_type": "code",
      "source": "df['ConvertedComp'].median()\n\n# Alternately\n# df['ConvertedComp'].describe()",
      "metadata": {
        "trusted": true
      },
      "outputs": [
        {
          "execution_count": 15,
          "output_type": "execute_result",
          "data": {
            "text/plain": "57745.0"
          },
          "metadata": {}
        }
      ],
      "execution_count": 15
    },
    {
      "cell_type": "markdown",
      "source": "How many responders identified themselves only as a **Man**?\n",
      "metadata": {}
    },
    {
      "cell_type": "code",
      "source": "df['Gender'].value_counts()",
      "metadata": {
        "trusted": true
      },
      "outputs": [
        {
          "execution_count": 23,
          "output_type": "execute_result",
          "data": {
            "text/plain": "Man                                                            10480\nWoman                                                            731\nNon-binary, genderqueer, or gender non-conforming                 63\nMan;Non-binary, genderqueer, or gender non-conforming             26\nWoman;Non-binary, genderqueer, or gender non-conforming           14\nWoman;Man                                                          9\nWoman;Man;Non-binary, genderqueer, or gender non-conforming        2\nName: Gender, dtype: int64"
          },
          "metadata": {}
        }
      ],
      "execution_count": 23
    },
    {
      "cell_type": "markdown",
      "source": "Find out the  median ConvertedComp of responders identified themselves only as a **Woman**?\n",
      "metadata": {}
    },
    {
      "cell_type": "code",
      "source": "# Create new data frame with ONLY woman responders\ndf_woman = df[df['Gender'] == 'Woman']\n\n# Find the median salary for woman\ndf_woman['ConvertedComp'].median()",
      "metadata": {
        "trusted": true
      },
      "outputs": [
        {
          "execution_count": 96,
          "output_type": "execute_result",
          "data": {
            "text/plain": "57708.0"
          },
          "metadata": {}
        }
      ],
      "execution_count": 96
    },
    {
      "cell_type": "markdown",
      "source": "Give the five number summary for the column `Age`?\n",
      "metadata": {}
    },
    {
      "cell_type": "markdown",
      "source": "**Double click here for hint**.\n\n<!--\nmin,q1,median,q3,max of a column are its five number summary.\n-->\n",
      "metadata": {}
    },
    {
      "cell_type": "code",
      "source": "# your code goes here\ndf['Age'].describe()",
      "metadata": {
        "trusted": true
      },
      "outputs": [
        {
          "execution_count": 26,
          "output_type": "execute_result",
          "data": {
            "text/plain": "count    11111.000000\nmean        30.778895\nstd          7.393686\nmin         16.000000\n25%         25.000000\n50%         29.000000\n75%         35.000000\nmax         99.000000\nName: Age, dtype: float64"
          },
          "metadata": {}
        }
      ],
      "execution_count": 26
    },
    {
      "cell_type": "code",
      "source": "df.describe()",
      "metadata": {
        "trusted": true
      },
      "outputs": [
        {
          "execution_count": 7,
          "output_type": "execute_result",
          "data": {
            "text/plain": "         Respondent     CompTotal  ConvertedComp   WorkWeekHrs   CodeRevHrs  \\\ncount  11398.000000  1.058900e+04   1.058200e+04  11276.000000  8972.000000   \nmean   12490.392437  7.570477e+05   1.315967e+05     42.064606     4.781071   \nstd     7235.461999  9.705598e+06   2.947865e+05     24.672741     4.567060   \nmin        4.000000  0.000000e+00   0.000000e+00      3.000000     0.000000   \n25%     6264.250000  2.500000e+04   2.686800e+04     40.000000     2.000000   \n50%    12484.000000  6.500000e+04   5.774500e+04     40.000000     4.000000   \n75%    18784.750000  1.200000e+05   1.000000e+05     43.000000     5.000000   \nmax    25142.000000  7.000000e+08   2.000000e+06   1012.000000    99.000000   \n\n                Age  \ncount  11111.000000  \nmean      30.778895  \nstd        7.393686  \nmin       16.000000  \n25%       25.000000  \n50%       29.000000  \n75%       35.000000  \nmax       99.000000  ",
            "text/html": "<div>\n<style scoped>\n    .dataframe tbody tr th:only-of-type {\n        vertical-align: middle;\n    }\n\n    .dataframe tbody tr th {\n        vertical-align: top;\n    }\n\n    .dataframe thead th {\n        text-align: right;\n    }\n</style>\n<table border=\"1\" class=\"dataframe\">\n  <thead>\n    <tr style=\"text-align: right;\">\n      <th></th>\n      <th>Respondent</th>\n      <th>CompTotal</th>\n      <th>ConvertedComp</th>\n      <th>WorkWeekHrs</th>\n      <th>CodeRevHrs</th>\n      <th>Age</th>\n    </tr>\n  </thead>\n  <tbody>\n    <tr>\n      <th>count</th>\n      <td>11398.000000</td>\n      <td>1.058900e+04</td>\n      <td>1.058200e+04</td>\n      <td>11276.000000</td>\n      <td>8972.000000</td>\n      <td>11111.000000</td>\n    </tr>\n    <tr>\n      <th>mean</th>\n      <td>12490.392437</td>\n      <td>7.570477e+05</td>\n      <td>1.315967e+05</td>\n      <td>42.064606</td>\n      <td>4.781071</td>\n      <td>30.778895</td>\n    </tr>\n    <tr>\n      <th>std</th>\n      <td>7235.461999</td>\n      <td>9.705598e+06</td>\n      <td>2.947865e+05</td>\n      <td>24.672741</td>\n      <td>4.567060</td>\n      <td>7.393686</td>\n    </tr>\n    <tr>\n      <th>min</th>\n      <td>4.000000</td>\n      <td>0.000000e+00</td>\n      <td>0.000000e+00</td>\n      <td>3.000000</td>\n      <td>0.000000</td>\n      <td>16.000000</td>\n    </tr>\n    <tr>\n      <th>25%</th>\n      <td>6264.250000</td>\n      <td>2.500000e+04</td>\n      <td>2.686800e+04</td>\n      <td>40.000000</td>\n      <td>2.000000</td>\n      <td>25.000000</td>\n    </tr>\n    <tr>\n      <th>50%</th>\n      <td>12484.000000</td>\n      <td>6.500000e+04</td>\n      <td>5.774500e+04</td>\n      <td>40.000000</td>\n      <td>4.000000</td>\n      <td>29.000000</td>\n    </tr>\n    <tr>\n      <th>75%</th>\n      <td>18784.750000</td>\n      <td>1.200000e+05</td>\n      <td>1.000000e+05</td>\n      <td>43.000000</td>\n      <td>5.000000</td>\n      <td>35.000000</td>\n    </tr>\n    <tr>\n      <th>max</th>\n      <td>25142.000000</td>\n      <td>7.000000e+08</td>\n      <td>2.000000e+06</td>\n      <td>1012.000000</td>\n      <td>99.000000</td>\n      <td>99.000000</td>\n    </tr>\n  </tbody>\n</table>\n</div>"
          },
          "metadata": {}
        }
      ],
      "execution_count": 7
    },
    {
      "cell_type": "markdown",
      "source": "Plot a histogram of the column `Age`.\n",
      "metadata": {}
    },
    {
      "cell_type": "code",
      "source": "# Clean data aka fix missing data\ndf_age = df.copy()\ndf_age['Age'].replace('?', np.NaN, inplace=True)\nmean = df_age['Age'].mean()\ndf_age['Age'].replace(np.NaN, mean, inplace=True)\n\n# Get bin sizes\ncount, bin_edges = np.histogram(df_age['Age'])\n# Plot\ndf_age['Age'].plot(kind='hist', figsize=(8,5), xticks=bin_edges)\nplt.title('Histogram of Responders\\' Age')\nplt.ylabel('Frequency')\nplt.xlabel('Age')",
      "metadata": {
        "trusted": true
      },
      "outputs": [
        {
          "execution_count": 97,
          "output_type": "execute_result",
          "data": {
            "text/plain": "Text(0.5, 0, 'Age')"
          },
          "metadata": {}
        },
        {
          "output_type": "display_data",
          "data": {
            "text/plain": "<Figure size 800x500 with 1 Axes>",
            "image/png": "[encoded data removed]"
          },
          "metadata": {}
        }
      ],
      "execution_count": 97
    },
    {
      "cell_type": "code",
      "source": "# Age 24-32 has the highest responders ",
      "metadata": {
        "trusted": true
      },
      "outputs": [],
      "execution_count": 54
    },
    {
      "cell_type": "markdown",
      "source": "## Outliers\n",
      "metadata": {}
    },
    {
      "cell_type": "markdown",
      "source": "### Finding outliers\n",
      "metadata": {}
    },
    {
      "cell_type": "markdown",
      "source": "Find out if outliers exist in the column `ConvertedComp` using a box plot?\n",
      "metadata": {}
    },
    {
      "cell_type": "code",
      "source": "convertedComp = df[['ConvertedComp']]\nconvertedComp.plot(kind='box', figsize=(8, 6))\n\nplt.title('BoxPlot')\nplt.ylabel('Salary')\n\nplt.show()",
      "metadata": {
        "trusted": true
      },
      "outputs": [
        {
          "output_type": "display_data",
          "data": {
            "text/plain": "<Figure size 800x600 with 1 Axes>",
            "image/png": "[encoded data removed]"
          },
          "metadata": {}
        }
      ],
      "execution_count": 16
    },
    {
      "cell_type": "code",
      "source": "df['ConvertedComp'].median()",
      "metadata": {
        "trusted": true
      },
      "outputs": [
        {
          "execution_count": 99,
          "output_type": "execute_result",
          "data": {
            "text/plain": "57745.0"
          },
          "metadata": {}
        }
      ],
      "execution_count": 99
    },
    {
      "cell_type": "markdown",
      "source": "Find out the Inter Quartile Range for the column `ConvertedComp`.\n",
      "metadata": {}
    },
    {
      "cell_type": "code",
      "source": "Q1 = df['ConvertedComp'].quantile(0.25)\nQ3 = df['ConvertedComp'].quantile(0.75)\nIQR = Q3 - Q1\nprint(IQR)",
      "metadata": {
        "trusted": true
      },
      "outputs": [
        {
          "name": "stdout",
          "text": "73132.0\n",
          "output_type": "stream"
        }
      ],
      "execution_count": 20
    },
    {
      "cell_type": "markdown",
      "source": "Find out the upper and lower bounds.\n",
      "metadata": {}
    },
    {
      "cell_type": "code",
      "source": "upper = Q3 + (1.5*IQR)\nprint('Upper Bound', upper)\n\nlower = Q1 - (1.5*IQR)\nprint('Lower Bound', lower)\n",
      "metadata": {
        "trusted": true
      },
      "outputs": [
        {
          "name": "stdout",
          "text": "Upper Bound 209698.0\nLower Bound -82830.0\n",
          "output_type": "stream"
        }
      ],
      "execution_count": 22
    },
    {
      "cell_type": "markdown",
      "source": "Identify how many outliers are there in the `ConvertedComp` column.\n",
      "metadata": {}
    },
    {
      "cell_type": "code",
      "source": "# Calculate outliers below the minimum\nlow_outliers = df[df['ConvertedComp']< lower]\n# Calculate outliers above the maximum\nup_outliers = df[df['ConvertedComp']> upper]\n\n# Total outliers\nprint('Number of outliers: ', len(low_outliers) + len(up_outliers))",
      "metadata": {
        "trusted": true
      },
      "outputs": [
        {
          "name": "stdout",
          "text": "Number of outliers:  879\n",
          "output_type": "stream"
        }
      ],
      "execution_count": 57
    },
    {
      "cell_type": "markdown",
      "source": "Create a new dataframe by removing the outliers from the `ConvertedComp` column.\n",
      "metadata": {}
    },
    {
      "cell_type": "code",
      "source": "# New dataframe without outliers\ndf_no_outliers = df[df['ConvertedComp']<= upper]\n",
      "metadata": {
        "trusted": true
      },
      "outputs": [],
      "execution_count": 79
    },
    {
      "cell_type": "code",
      "source": "# Median\nprint('**After removing outliers**')\nprint('Median of ConvertedComp: ',df_no_outliers['ConvertedComp'].median())\n\n# Mean\nprint('Mean of ConvertedComp: ', round(df_no_outliers['ConvertedComp'].mean(), 2))",
      "metadata": {
        "trusted": true
      },
      "outputs": [
        {
          "name": "stdout",
          "text": "**After removing outliers**\nMedian of ConvertedComp:  52704.0\nMean of ConvertedComp:  59883.21\n",
          "output_type": "stream"
        }
      ],
      "execution_count": 80
    },
    {
      "cell_type": "markdown",
      "source": "## Correlation\n",
      "metadata": {}
    },
    {
      "cell_type": "markdown",
      "source": "### Finding correlation\n",
      "metadata": {}
    },
    {
      "cell_type": "markdown",
      "source": "Find the correlation between `Age` and all other numerical columns.\n",
      "metadata": {}
    },
    {
      "cell_type": "code",
      "source": "# Get all numeric\ndf_numeric = df.select_dtypes(include='number')\ndf_numeric.dtypes",
      "metadata": {
        "trusted": true
      },
      "outputs": [
        {
          "execution_count": 109,
          "output_type": "execute_result",
          "data": {
            "text/plain": "Respondent         int64\nCompTotal        float64\nConvertedComp    float64\nWorkWeekHrs      float64\nCodeRevHrs       float64\nAge              float64\ndtype: object"
          },
          "metadata": {}
        }
      ],
      "execution_count": 109
    },
    {
      "cell_type": "code",
      "source": "df_numeric.corr()",
      "metadata": {
        "trusted": true
      },
      "outputs": [
        {
          "execution_count": 106,
          "output_type": "execute_result",
          "data": {
            "text/plain": "               Respondent  CompTotal  ConvertedComp  WorkWeekHrs  CodeRevHrs  \\\nRespondent       1.000000  -0.013490       0.002181    -0.015314    0.004621   \nCompTotal       -0.013490   1.000000       0.001037     0.003510    0.007063   \nConvertedComp    0.002181   0.001037       1.000000     0.021143   -0.033865   \nWorkWeekHrs     -0.015314   0.003510       0.021143     1.000000    0.026517   \nCodeRevHrs       0.004621   0.007063      -0.033865     0.026517    1.000000   \nAge              0.004041   0.006970       0.105386     0.036518   -0.020469   \n\n                    Age  \nRespondent     0.004041  \nCompTotal      0.006970  \nConvertedComp  0.105386  \nWorkWeekHrs    0.036518  \nCodeRevHrs    -0.020469  \nAge            1.000000  ",
            "text/html": "<div>\n<style scoped>\n    .dataframe tbody tr th:only-of-type {\n        vertical-align: middle;\n    }\n\n    .dataframe tbody tr th {\n        vertical-align: top;\n    }\n\n    .dataframe thead th {\n        text-align: right;\n    }\n</style>\n<table border=\"1\" class=\"dataframe\">\n  <thead>\n    <tr style=\"text-align: right;\">\n      <th></th>\n      <th>Respondent</th>\n      <th>CompTotal</th>\n      <th>ConvertedComp</th>\n      <th>WorkWeekHrs</th>\n      <th>CodeRevHrs</th>\n      <th>Age</th>\n    </tr>\n  </thead>\n  <tbody>\n    <tr>\n      <th>Respondent</th>\n      <td>1.000000</td>\n      <td>-0.013490</td>\n      <td>0.002181</td>\n      <td>-0.015314</td>\n      <td>0.004621</td>\n      <td>0.004041</td>\n    </tr>\n    <tr>\n      <th>CompTotal</th>\n      <td>-0.013490</td>\n      <td>1.000000</td>\n      <td>0.001037</td>\n      <td>0.003510</td>\n      <td>0.007063</td>\n      <td>0.006970</td>\n    </tr>\n    <tr>\n      <th>ConvertedComp</th>\n      <td>0.002181</td>\n      <td>0.001037</td>\n      <td>1.000000</td>\n      <td>0.021143</td>\n      <td>-0.033865</td>\n      <td>0.105386</td>\n    </tr>\n    <tr>\n      <th>WorkWeekHrs</th>\n      <td>-0.015314</td>\n      <td>0.003510</td>\n      <td>0.021143</td>\n      <td>1.000000</td>\n      <td>0.026517</td>\n      <td>0.036518</td>\n    </tr>\n    <tr>\n      <th>CodeRevHrs</th>\n      <td>0.004621</td>\n      <td>0.007063</td>\n      <td>-0.033865</td>\n      <td>0.026517</td>\n      <td>1.000000</td>\n      <td>-0.020469</td>\n    </tr>\n    <tr>\n      <th>Age</th>\n      <td>0.004041</td>\n      <td>0.006970</td>\n      <td>0.105386</td>\n      <td>0.036518</td>\n      <td>-0.020469</td>\n      <td>1.000000</td>\n    </tr>\n  </tbody>\n</table>\n</div>"
          },
          "metadata": {}
        }
      ],
      "execution_count": 106
    },
    {
      "cell_type": "code",
      "source": "#Alternately...\ndf.corr(numeric_only=True)",
      "metadata": {
        "trusted": true
      },
      "outputs": [
        {
          "execution_count": 113,
          "output_type": "execute_result",
          "data": {
            "text/plain": "               Respondent  CompTotal  ConvertedComp  WorkWeekHrs  CodeRevHrs  \\\nRespondent       1.000000  -0.013490       0.002181    -0.015314    0.004621   \nCompTotal       -0.013490   1.000000       0.001037     0.003510    0.007063   \nConvertedComp    0.002181   0.001037       1.000000     0.021143   -0.033865   \nWorkWeekHrs     -0.015314   0.003510       0.021143     1.000000    0.026517   \nCodeRevHrs       0.004621   0.007063      -0.033865     0.026517    1.000000   \nAge              0.004041   0.006970       0.105386     0.036518   -0.020469   \n\n                    Age  \nRespondent     0.004041  \nCompTotal      0.006970  \nConvertedComp  0.105386  \nWorkWeekHrs    0.036518  \nCodeRevHrs    -0.020469  \nAge            1.000000  ",
            "text/html": "<div>\n<style scoped>\n    .dataframe tbody tr th:only-of-type {\n        vertical-align: middle;\n    }\n\n    .dataframe tbody tr th {\n        vertical-align: top;\n    }\n\n    .dataframe thead th {\n        text-align: right;\n    }\n</style>\n<table border=\"1\" class=\"dataframe\">\n  <thead>\n    <tr style=\"text-align: right;\">\n      <th></th>\n      <th>Respondent</th>\n      <th>CompTotal</th>\n      <th>ConvertedComp</th>\n      <th>WorkWeekHrs</th>\n      <th>CodeRevHrs</th>\n      <th>Age</th>\n    </tr>\n  </thead>\n  <tbody>\n    <tr>\n      <th>Respondent</th>\n      <td>1.000000</td>\n      <td>-0.013490</td>\n      <td>0.002181</td>\n      <td>-0.015314</td>\n      <td>0.004621</td>\n      <td>0.004041</td>\n    </tr>\n    <tr>\n      <th>CompTotal</th>\n      <td>-0.013490</td>\n      <td>1.000000</td>\n      <td>0.001037</td>\n      <td>0.003510</td>\n      <td>0.007063</td>\n      <td>0.006970</td>\n    </tr>\n    <tr>\n      <th>ConvertedComp</th>\n      <td>0.002181</td>\n      <td>0.001037</td>\n      <td>1.000000</td>\n      <td>0.021143</td>\n      <td>-0.033865</td>\n      <td>0.105386</td>\n    </tr>\n    <tr>\n      <th>WorkWeekHrs</th>\n      <td>-0.015314</td>\n      <td>0.003510</td>\n      <td>0.021143</td>\n      <td>1.000000</td>\n      <td>0.026517</td>\n      <td>0.036518</td>\n    </tr>\n    <tr>\n      <th>CodeRevHrs</th>\n      <td>0.004621</td>\n      <td>0.007063</td>\n      <td>-0.033865</td>\n      <td>0.026517</td>\n      <td>1.000000</td>\n      <td>-0.020469</td>\n    </tr>\n    <tr>\n      <th>Age</th>\n      <td>0.004041</td>\n      <td>0.006970</td>\n      <td>0.105386</td>\n      <td>0.036518</td>\n      <td>-0.020469</td>\n      <td>1.000000</td>\n    </tr>\n  </tbody>\n</table>\n</div>"
          },
          "metadata": {}
        }
      ],
      "execution_count": 113
    },
    {
      "cell_type": "code",
      "source": "# ConvertedComp has the highest positively correlation.\n\n# On the other hand, CodeRevHrs and Age are inversely related.",
      "metadata": {
        "trusted": true
      },
      "outputs": [],
      "execution_count": null
    },
    {
      "cell_type": "markdown",
      "source": "## Authors\n",
      "metadata": {}
    },
    {
      "cell_type": "markdown",
      "source": "Ramesh Sannareddy\n",
      "metadata": {}
    },
    {
      "cell_type": "markdown",
      "source": "### Other Contributors\n",
      "metadata": {}
    },
    {
      "cell_type": "markdown",
      "source": "Rav Ahuja\n",
      "metadata": {}
    },
    {
      "cell_type": "markdown",
      "source": "## Change Log\n",
      "metadata": {}
    },
    {
      "cell_type": "markdown",
      "source": "| Date (YYYY-MM-DD) | Version | Changed By        | Change Description                 |\n| ----------------- | ------- | ----------------- | ---------------------------------- |\n| 2020-10-17        | 0.1     | Ramesh Sannareddy | Created initial version of the lab |\n",
      "metadata": {}
    },
    {
      "cell_type": "markdown",
      "source": " Copyright © 2020 IBM Corporation. This notebook and its source code are released under the terms of the [MIT License](https://cognitiveclass.ai/mit-license?cm_mmc=Email_Newsletter-_-Developer_Ed%2BTech-_-WW_WW-_-SkillsNetwork-Courses-IBM-DA0321EN-SkillsNetwork-21426264&cm_mmca1=000026UJ&cm_mmca2=10006555&cm_mmca3=M12345678&cvosrc=email.Newsletter.M12345678&cvo_campaign=000026UJ&cm_mmc=Email_Newsletter-_-Developer_Ed%2BTech-_-WW_WW-_-SkillsNetwork-Courses-IBM-DA0321EN-SkillsNetwork-21426264&cm_mmca1=000026UJ&cm_mmca2=10006555&cm_mmca3=M12345678&cvosrc=email.Newsletter.M12345678&cvo_campaign=000026UJ&cm_mmc=Email_Newsletter-_-Developer_Ed%2BTech-_-WW_WW-_-SkillsNetwork-Courses-IBM-DA0321EN-SkillsNetwork-21426264&cm_mmca1=000026UJ&cm_mmca2=10006555&cm_mmca3=M12345678&cvosrc=email.Newsletter.M12345678&cvo_campaign=000026UJ&cm_mmc=Email_Newsletter-_-Developer_Ed%2BTech-_-WW_WW-_-SkillsNetwork-Courses-IBM-DA0321EN-SkillsNetwork-21426264&cm_mmca1=000026UJ&cm_mmca2=10006555&cm_mmca3=M12345678&cvosrc=email.Newsletter.M12345678&cvo_campaign=000026UJ).\n",
      "metadata": {}
    }
  ]
}